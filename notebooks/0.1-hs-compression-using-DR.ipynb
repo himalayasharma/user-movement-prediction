{
 "cells": [
  {
   "cell_type": "markdown",
   "id": "c186deaa-7643-429c-b3f4-dca557b71b4b",
   "metadata": {},
   "source": [
    "# Import packages"
   ]
  },
  {
   "cell_type": "code",
   "execution_count": 8,
   "id": "12fc98ef-e83a-4f0a-bce6-8de20a435504",
   "metadata": {},
   "outputs": [],
   "source": [
    "import os, wget, zipfile"
   ]
  },
  {
   "cell_type": "code",
   "execution_count": 11,
   "id": "e1866822-fcf1-45f5-9927-8185001c1a13",
   "metadata": {},
   "outputs": [],
   "source": [
    "def download_data(destination_dir, url=\"https://archive.ics.uci.edu/ml/machine-learning-databases/00348/MovementAAL.zip\"):\n",
    "\n",
    "    # Make path if does not exits\n",
    "    if(os.path.exists(destination_dir) == False):\n",
    "        os.makedirs(destination_dir)\n",
    "    # Download data if it does not exist on disk\n",
    "    if(os.path.exists(os.path.join(destination_dir, \"MovementAAL.zip\")) == False):\n",
    "        wget.download(url, destination_dir)\n",
    "        \n",
    "def extract_data(data_dir, filename=\"MovementAAL.zip\"):\n",
    "    \n",
    "    with zipfile.ZipFile(os.path.join(data_dir, filename), 'r') as zip_ref:\n",
    "        zip_ref.extractall(data_dir)"
   ]
  },
  {
   "cell_type": "markdown",
   "id": "2b588b73-569e-422b-8094-23322caf2a29",
   "metadata": {},
   "source": [
    "# Download and extract data"
   ]
  },
  {
   "cell_type": "code",
   "execution_count": 12,
   "id": "7c3a62fc-820a-4794-9427-7a9744b67395",
   "metadata": {},
   "outputs": [],
   "source": [
    "root_dir = \"/mnt/Disk-2/My Stuff/UWaterloo/Coursework/Spring'22/ECE 659/Project/ece-659-project/\"\n",
    "raw_data_dir = os.path.join(root_dir, 'data/raw')\n",
    "download_data(raw_data_dir)\n",
    "extract_data(raw_data_dir)"
   ]
  }
 ],
 "metadata": {
  "kernelspec": {
   "display_name": "Python 3 (ipykernel)",
   "language": "python",
   "name": "python3"
  },
  "language_info": {
   "codemirror_mode": {
    "name": "ipython",
    "version": 3
   },
   "file_extension": ".py",
   "mimetype": "text/x-python",
   "name": "python",
   "nbconvert_exporter": "python",
   "pygments_lexer": "ipython3",
   "version": "3.8.10"
  }
 },
 "nbformat": 4,
 "nbformat_minor": 5
}

{
 "cells": [
  {
   "cell_type": "markdown",
   "id": "c186deaa-7643-429c-b3f4-dca557b71b4b",
   "metadata": {},
   "source": [
    "# Import packages"
   ]
  },
  {
   "cell_type": "code",
   "execution_count": 4,
   "id": "12fc98ef-e83a-4f0a-bce6-8de20a435504",
   "metadata": {},
   "outputs": [],
   "source": [
    "import os, wget, zipfile\n",
    "import pandas as pd\n",
    "import re\n",
    "import numpy as np"
   ]
  },
  {
   "cell_type": "code",
   "execution_count": 5,
   "id": "e1866822-fcf1-45f5-9927-8185001c1a13",
   "metadata": {},
   "outputs": [],
   "source": [
    "def download_data(destination_dir, url=\"https://archive.ics.uci.edu/ml/machine-learning-databases/00348/MovementAAL.zip\"):\n",
    "\n",
    "    # Make path if does not exits\n",
    "    if(os.path.exists(destination_dir) == False):\n",
    "        os.makedirs(destination_dir)\n",
    "    # Download data if it does not exist on disk\n",
    "    if(os.path.exists(os.path.join(destination_dir, \"MovementAAL.zip\")) == False):\n",
    "        wget.download(url, destination_dir)\n",
    "        \n",
    "def extract_data(data_dir, filename=\"MovementAAL.zip\"):\n",
    "    \n",
    "    with zipfile.ZipFile(os.path.join(data_dir, filename), 'r') as zip_ref:\n",
    "        zip_ref.extractall(data_dir)"
   ]
  },
  {
   "cell_type": "markdown",
   "id": "2b588b73-569e-422b-8094-23322caf2a29",
   "metadata": {},
   "source": [
    "# Download and extract data"
   ]
  },
  {
   "cell_type": "code",
   "execution_count": 6,
   "id": "7c3a62fc-820a-4794-9427-7a9744b67395",
   "metadata": {},
   "outputs": [],
   "source": [
    "root_dir = \"/mnt/Disk-2/My Stuff/UWaterloo/Coursework/Spring'22/ECE 659/Project/ece-659-project/\"\n",
    "raw_data_dir = os.path.join(root_dir, 'data/raw')\n",
    "download_data(raw_data_dir)\n",
    "extract_data(raw_data_dir)"
   ]
  },
  {
   "cell_type": "markdown",
   "id": "2b725c67-e0ec-4776-916d-c87bc0c856c2",
   "metadata": {},
   "source": [
    "# Load data"
   ]
  },
  {
   "cell_type": "code",
   "execution_count": 7,
   "id": "d411e989-d5a7-47a8-90d0-d598d97cfe9b",
   "metadata": {},
   "outputs": [],
   "source": [
    "rss_data = dict()\n",
    "rss_files_dir = os.path.join(raw_data_dir, 'dataset')\n",
    "for file in os.listdir(rss_files_dir):\n",
    "    file_path = os.path.join(rss_files_dir, file)\n",
    "    filename = file.split('.')[0]\n",
    "    if(bool(re.match(r\"^MovementAAL_RSS_.*.csv$\", file))):\n",
    "        file\n",
    "        rss_data[filename] = pd.read_csv(file_path)\n",
    "    else:\n",
    "        target = pd.read_csv(file_path)"
   ]
  },
  {
   "cell_type": "markdown",
   "id": "3fd4098b-d17c-48d7-a8d7-9bfc8102373f",
   "metadata": {},
   "source": [
    "# Explore data"
   ]
  },
  {
   "cell_type": "code",
   "execution_count": 8,
   "id": "da426efc-ae8b-44aa-b03e-909c48c7df93",
   "metadata": {},
   "outputs": [
    {
     "data": {
      "text/plain": [
       "dict_keys(['MovementAAL_RSS_243', 'MovementAAL_RSS_115', 'MovementAAL_RSS_56', 'MovementAAL_RSS_78', 'MovementAAL_RSS_186', 'MovementAAL_RSS_228', 'MovementAAL_RSS_190', 'MovementAAL_RSS_160', 'MovementAAL_RSS_169', 'MovementAAL_RSS_263', 'MovementAAL_RSS_2', 'MovementAAL_RSS_127', 'MovementAAL_RSS_12', 'MovementAAL_RSS_254', 'MovementAAL_RSS_99', 'MovementAAL_RSS_137', 'MovementAAL_RSS_214', 'MovementAAL_RSS_47', 'MovementAAL_RSS_154', 'MovementAAL_RSS_244', 'MovementAAL_RSS_276', 'MovementAAL_RSS_72', 'MovementAAL_RSS_206', 'MovementAAL_RSS_49', 'MovementAAL_RSS_114', 'MovementAAL_RSS_231', 'MovementAAL_RSS_81', 'MovementAAL_RSS_252', 'MovementAAL_RSS_61', 'MovementAAL_RSS_133', 'MovementAAL_RSS_24', 'MovementAAL_RSS_303', 'MovementAAL_RSS_285', 'MovementAAL_RSS_306', 'MovementAAL_RSS_71', 'MovementAAL_RSS_52', 'MovementAAL_RSS_42', 'MovementAAL_RSS_69', 'MovementAAL_RSS_207', 'MovementAAL_RSS_117', 'MovementAAL_RSS_31', 'MovementAAL_RSS_104', 'MovementAAL_RSS_75', 'MovementAAL_RSS_44', 'MovementAAL_RSS_161', 'MovementAAL_RSS_292', 'MovementAAL_RSS_63', 'MovementAAL_RSS_130', 'MovementAAL_RSS_54', 'MovementAAL_RSS_296', 'MovementAAL_RSS_41', 'MovementAAL_RSS_177', 'MovementAAL_RSS_85', 'MovementAAL_RSS_268', 'MovementAAL_RSS_170', 'MovementAAL_RSS_143', 'MovementAAL_RSS_163', 'MovementAAL_RSS_284', 'MovementAAL_RSS_83', 'MovementAAL_RSS_184', 'MovementAAL_RSS_151', 'MovementAAL_RSS_258', 'MovementAAL_RSS_293', 'MovementAAL_RSS_266', 'MovementAAL_RSS_275', 'MovementAAL_RSS_124', 'MovementAAL_RSS_283', 'MovementAAL_RSS_167', 'MovementAAL_RSS_182', 'MovementAAL_RSS_38', 'MovementAAL_RSS_277', 'MovementAAL_RSS_264', 'MovementAAL_RSS_39', 'MovementAAL_RSS_225', 'MovementAAL_RSS_118', 'MovementAAL_RSS_158', 'MovementAAL_RSS_172', 'MovementAAL_RSS_140', 'MovementAAL_RSS_152', 'MovementAAL_RSS_73', 'MovementAAL_RSS_62', 'MovementAAL_RSS_205', 'MovementAAL_RSS_216', 'MovementAAL_RSS_155', 'MovementAAL_RSS_286', 'MovementAAL_RSS_297', 'MovementAAL_RSS_132', 'MovementAAL_RSS_299', 'MovementAAL_RSS_233', 'MovementAAL_RSS_93', 'MovementAAL_RSS_234', 'MovementAAL_RSS_25', 'MovementAAL_RSS_139', 'MovementAAL_RSS_175', 'MovementAAL_RSS_59', 'MovementAAL_RSS_224', 'MovementAAL_RSS_10', 'MovementAAL_RSS_269', 'MovementAAL_RSS_308', 'MovementAAL_RSS_238', 'MovementAAL_RSS_159', 'MovementAAL_RSS_125', 'MovementAAL_RSS_199', 'MovementAAL_RSS_68', 'MovementAAL_RSS_101', 'MovementAAL_RSS_226', 'MovementAAL_RSS_242', 'MovementAAL_RSS_165', 'MovementAAL_RSS_91', 'MovementAAL_RSS_219', 'MovementAAL_RSS_188', 'MovementAAL_RSS_202', 'MovementAAL_RSS_287', 'MovementAAL_RSS_65', 'MovementAAL_RSS_26', 'MovementAAL_RSS_7', 'MovementAAL_RSS_180', 'MovementAAL_RSS_48', 'MovementAAL_RSS_198', 'MovementAAL_RSS_310', 'MovementAAL_RSS_64', 'MovementAAL_RSS_247', 'MovementAAL_RSS_21', 'MovementAAL_RSS_126', 'MovementAAL_RSS_111', 'MovementAAL_RSS_203', 'MovementAAL_RSS_288', 'MovementAAL_RSS_129', 'MovementAAL_RSS_138', 'MovementAAL_RSS_105', 'MovementAAL_RSS_240', 'MovementAAL_RSS_168', 'MovementAAL_RSS_201', 'MovementAAL_RSS_211', 'MovementAAL_RSS_253', 'MovementAAL_RSS_131', 'MovementAAL_RSS_107', 'MovementAAL_RSS_280', 'MovementAAL_RSS_119', 'MovementAAL_RSS_33', 'MovementAAL_RSS_30', 'MovementAAL_RSS_87', 'MovementAAL_RSS_98', 'MovementAAL_RSS_76', 'MovementAAL_RSS_204', 'MovementAAL_RSS_166', 'MovementAAL_RSS_300', 'MovementAAL_RSS_301', 'MovementAAL_RSS_92', 'MovementAAL_RSS_246', 'MovementAAL_RSS_217', 'MovementAAL_RSS_135', 'MovementAAL_RSS_82', 'MovementAAL_RSS_146', 'MovementAAL_RSS_50', 'MovementAAL_RSS_51', 'MovementAAL_RSS_90', 'MovementAAL_RSS_96', 'MovementAAL_RSS_112', 'MovementAAL_RSS_88', 'MovementAAL_RSS_208', 'MovementAAL_RSS_295', 'MovementAAL_RSS_102', 'MovementAAL_RSS_164', 'MovementAAL_RSS_195', 'MovementAAL_RSS_106', 'MovementAAL_RSS_220', 'MovementAAL_RSS_110', 'MovementAAL_RSS_218', 'MovementAAL_RSS_187', 'MovementAAL_RSS_157', 'MovementAAL_RSS_5', 'MovementAAL_RSS_179', 'MovementAAL_RSS_94', 'MovementAAL_RSS_100', 'MovementAAL_RSS_19', 'MovementAAL_RSS_255', 'MovementAAL_RSS_9', 'MovementAAL_RSS_215', 'MovementAAL_RSS_213', 'MovementAAL_RSS_11', 'MovementAAL_RSS_221', 'MovementAAL_RSS_34', 'MovementAAL_RSS_22', 'MovementAAL_RSS_193', 'MovementAAL_RSS_249', 'MovementAAL_RSS_6', 'MovementAAL_RSS_145', 'MovementAAL_RSS_60', 'MovementAAL_RSS_307', 'MovementAAL_RSS_183', 'MovementAAL_RSS_14', 'MovementAAL_RSS_58', 'MovementAAL_RSS_77', 'MovementAAL_RSS_261', 'MovementAAL_RSS_309', 'MovementAAL_RSS_305', 'MovementAAL_RSS_8', 'MovementAAL_RSS_181', 'MovementAAL_RSS_95', 'MovementAAL_RSS_113', 'MovementAAL_RSS_250', 'MovementAAL_RSS_191', 'MovementAAL_RSS_171', 'MovementAAL_RSS_153', 'MovementAAL_RSS_16', 'MovementAAL_RSS_150', 'MovementAAL_RSS_156', 'MovementAAL_RSS_29', 'MovementAAL_RSS_290', 'MovementAAL_RSS_18', 'MovementAAL_RSS_274', 'MovementAAL_RSS_15', 'MovementAAL_RSS_223', 'MovementAAL_RSS_80', 'MovementAAL_RSS_209', 'MovementAAL_RSS_229', 'MovementAAL_RSS_185', 'MovementAAL_RSS_97', 'MovementAAL_RSS_314', 'MovementAAL_RSS_237', 'MovementAAL_RSS_282', 'MovementAAL_RSS_212', 'MovementAAL_RSS_257', 'MovementAAL_RSS_120', 'MovementAAL_RSS_294', 'MovementAAL_RSS_53', 'MovementAAL_RSS_147', 'MovementAAL_RSS_3', 'MovementAAL_RSS_121', 'MovementAAL_RSS_176', 'MovementAAL_RSS_304', 'MovementAAL_RSS_1', 'MovementAAL_RSS_122', 'MovementAAL_RSS_134', 'MovementAAL_RSS_35', 'MovementAAL_RSS_313', 'MovementAAL_RSS_200', 'MovementAAL_RSS_302', 'MovementAAL_RSS_273', 'MovementAAL_RSS_239', 'MovementAAL_RSS_70', 'MovementAAL_RSS_103', 'MovementAAL_RSS_232', 'MovementAAL_RSS_278', 'MovementAAL_RSS_289', 'MovementAAL_RSS_86', 'MovementAAL_RSS_109', 'MovementAAL_RSS_20', 'MovementAAL_RSS_84', 'MovementAAL_RSS_251', 'MovementAAL_RSS_262', 'MovementAAL_RSS_222', 'MovementAAL_RSS_89', 'MovementAAL_RSS_148', 'MovementAAL_RSS_197', 'MovementAAL_RSS_66', 'MovementAAL_RSS_28', 'MovementAAL_RSS_248', 'MovementAAL_RSS_13', 'MovementAAL_RSS_141', 'MovementAAL_RSS_178', 'MovementAAL_RSS_270', 'MovementAAL_RSS_279', 'MovementAAL_RSS_142', 'MovementAAL_RSS_67', 'MovementAAL_RSS_210', 'MovementAAL_RSS_57', 'MovementAAL_RSS_55', 'MovementAAL_RSS_27', 'MovementAAL_RSS_259', 'MovementAAL_RSS_36', 'MovementAAL_RSS_4', 'MovementAAL_RSS_311', 'MovementAAL_RSS_173', 'MovementAAL_RSS_196', 'MovementAAL_RSS_227', 'MovementAAL_RSS_116', 'MovementAAL_RSS_267', 'MovementAAL_RSS_312', 'MovementAAL_RSS_40', 'MovementAAL_RSS_79', 'MovementAAL_RSS_108', 'MovementAAL_RSS_194', 'MovementAAL_RSS_74', 'MovementAAL_RSS_37', 'MovementAAL_RSS_192', 'MovementAAL_RSS_162', 'MovementAAL_RSS_128', 'MovementAAL_RSS_241', 'MovementAAL_RSS_32', 'MovementAAL_RSS_189', 'MovementAAL_RSS_265', 'MovementAAL_RSS_260', 'MovementAAL_RSS_298', 'MovementAAL_RSS_256', 'MovementAAL_RSS_136', 'MovementAAL_RSS_23', 'MovementAAL_RSS_144', 'MovementAAL_RSS_281', 'MovementAAL_RSS_123', 'MovementAAL_RSS_149', 'MovementAAL_RSS_271', 'MovementAAL_RSS_174', 'MovementAAL_RSS_236', 'MovementAAL_RSS_230', 'MovementAAL_RSS_291', 'MovementAAL_RSS_272', 'MovementAAL_RSS_17', 'MovementAAL_RSS_43', 'MovementAAL_RSS_235', 'MovementAAL_RSS_46', 'MovementAAL_RSS_45', 'MovementAAL_RSS_245'])"
      ]
     },
     "execution_count": 8,
     "metadata": {},
     "output_type": "execute_result"
    }
   ],
   "source": [
    "rss_data.keys()"
   ]
  },
  {
   "cell_type": "code",
   "execution_count": 9,
   "id": "f33a53e0-5bb6-4211-bc47-03f2292ee864",
   "metadata": {},
   "outputs": [
    {
     "data": {
      "text/html": [
       "<div>\n",
       "<style scoped>\n",
       "    .dataframe tbody tr th:only-of-type {\n",
       "        vertical-align: middle;\n",
       "    }\n",
       "\n",
       "    .dataframe tbody tr th {\n",
       "        vertical-align: top;\n",
       "    }\n",
       "\n",
       "    .dataframe thead th {\n",
       "        text-align: right;\n",
       "    }\n",
       "</style>\n",
       "<table border=\"1\" class=\"dataframe\">\n",
       "  <thead>\n",
       "    <tr style=\"text-align: right;\">\n",
       "      <th></th>\n",
       "      <th>#RSS_anchor1</th>\n",
       "      <th>RSS_anchor2</th>\n",
       "      <th>RSS_anchor3</th>\n",
       "      <th>RSS_anchor4</th>\n",
       "    </tr>\n",
       "  </thead>\n",
       "  <tbody>\n",
       "    <tr>\n",
       "      <th>0</th>\n",
       "      <td>0.18182</td>\n",
       "      <td>-0.200000</td>\n",
       "      <td>-0.73333</td>\n",
       "      <td>-0.95745</td>\n",
       "    </tr>\n",
       "    <tr>\n",
       "      <th>1</th>\n",
       "      <td>-0.27273</td>\n",
       "      <td>-0.066667</td>\n",
       "      <td>-0.73333</td>\n",
       "      <td>-0.87234</td>\n",
       "    </tr>\n",
       "    <tr>\n",
       "      <th>2</th>\n",
       "      <td>-0.27273</td>\n",
       "      <td>-0.022222</td>\n",
       "      <td>-0.73333</td>\n",
       "      <td>-0.65957</td>\n",
       "    </tr>\n",
       "    <tr>\n",
       "      <th>3</th>\n",
       "      <td>-0.27273</td>\n",
       "      <td>-0.377780</td>\n",
       "      <td>-0.73333</td>\n",
       "      <td>-0.65957</td>\n",
       "    </tr>\n",
       "    <tr>\n",
       "      <th>4</th>\n",
       "      <td>0.45455</td>\n",
       "      <td>-0.200000</td>\n",
       "      <td>-0.60000</td>\n",
       "      <td>-0.65957</td>\n",
       "    </tr>\n",
       "  </tbody>\n",
       "</table>\n",
       "</div>"
      ],
      "text/plain": [
       "   #RSS_anchor1   RSS_anchor2   RSS_anchor3   RSS_anchor4\n",
       "0       0.18182     -0.200000      -0.73333      -0.95745\n",
       "1      -0.27273     -0.066667      -0.73333      -0.87234\n",
       "2      -0.27273     -0.022222      -0.73333      -0.65957\n",
       "3      -0.27273     -0.377780      -0.73333      -0.65957\n",
       "4       0.45455     -0.200000      -0.60000      -0.65957"
      ]
     },
     "execution_count": 9,
     "metadata": {},
     "output_type": "execute_result"
    }
   ],
   "source": [
    "rss_data['MovementAAL_RSS_245'].head()"
   ]
  },
  {
   "cell_type": "code",
   "execution_count": 10,
   "id": "04d7b902-f530-4ea7-881b-2f7a91ce2ffc",
   "metadata": {},
   "outputs": [
    {
     "data": {
      "text/html": [
       "<div>\n",
       "<style scoped>\n",
       "    .dataframe tbody tr th:only-of-type {\n",
       "        vertical-align: middle;\n",
       "    }\n",
       "\n",
       "    .dataframe tbody tr th {\n",
       "        vertical-align: top;\n",
       "    }\n",
       "\n",
       "    .dataframe thead th {\n",
       "        text-align: right;\n",
       "    }\n",
       "</style>\n",
       "<table border=\"1\" class=\"dataframe\">\n",
       "  <thead>\n",
       "    <tr style=\"text-align: right;\">\n",
       "      <th></th>\n",
       "      <th>#sequence_ID</th>\n",
       "      <th>class_label</th>\n",
       "    </tr>\n",
       "  </thead>\n",
       "  <tbody>\n",
       "    <tr>\n",
       "      <th>0</th>\n",
       "      <td>1</td>\n",
       "      <td>1</td>\n",
       "    </tr>\n",
       "    <tr>\n",
       "      <th>1</th>\n",
       "      <td>2</td>\n",
       "      <td>1</td>\n",
       "    </tr>\n",
       "    <tr>\n",
       "      <th>2</th>\n",
       "      <td>3</td>\n",
       "      <td>1</td>\n",
       "    </tr>\n",
       "    <tr>\n",
       "      <th>3</th>\n",
       "      <td>4</td>\n",
       "      <td>1</td>\n",
       "    </tr>\n",
       "    <tr>\n",
       "      <th>4</th>\n",
       "      <td>5</td>\n",
       "      <td>1</td>\n",
       "    </tr>\n",
       "  </tbody>\n",
       "</table>\n",
       "</div>"
      ],
      "text/plain": [
       "   #sequence_ID   class_label\n",
       "0             1             1\n",
       "1             2             1\n",
       "2             3             1\n",
       "3             4             1\n",
       "4             5             1"
      ]
     },
     "execution_count": 10,
     "metadata": {},
     "output_type": "execute_result"
    }
   ],
   "source": [
    "target.head()"
   ]
  },
  {
   "cell_type": "markdown",
   "id": "8a3313f8-aa2e-4889-b2e3-abd5b32bd1d8",
   "metadata": {},
   "source": [
    "# Data Wrangling"
   ]
  },
  {
   "cell_type": "code",
   "execution_count": 42,
   "id": "d4db7def-2995-4e13-874f-0a99966c80ff",
   "metadata": {},
   "outputs": [],
   "source": [
    "# Get maximum length of time-series\n",
    "max_len = 0\n",
    "for key in rss_data.keys():\n",
    "    if(len(rss_data[key]) > max_len):\n",
    "        max_len = len(rss_data[key])"
   ]
  },
  {
   "cell_type": "code",
   "execution_count": 43,
   "id": "c957438e-cb78-4783-b891-514fcb4b47e6",
   "metadata": {},
   "outputs": [],
   "source": [
    "# Pad all time-series instances\n",
    "rss_data_padded = dict()\n",
    "cols = ['#RSS_anchor1', ' RSS_anchor2', ' RSS_anchor3', ' RSS_anchor4']\n",
    "for key in rss_data.keys():\n",
    "    zero_df = pd.DataFrame(0, index=np.arange(len(rss_data[key]), max_len), columns=cols)\n",
    "    rss_data_padded[key] = pd.concat([rss_data[key], zero_df], axis=0)"
   ]
  },
  {
   "cell_type": "code",
   "execution_count": 56,
   "id": "09173e70-2d06-479c-9c00-6d3964a04190",
   "metadata": {},
   "outputs": [],
   "source": [
    "def create_timeseries_instance(data):\n",
    "    \n",
    "    arr_list = []\n",
    "    cols = data.columns\n",
    "    \n",
    "    for col in cols:\n",
    "        arr = np.array(data[col])\n",
    "        reshaped_arr = np.expand_dims(arr, axis=1)\n",
    "        arr_list.append(reshaped_arr)\n",
    "        \n",
    "    data_stacked = np.hstack(tuple(arr_list))\n",
    "    return data_stacked\n",
    "\n",
    "def create_timeseries_data(data_dict):\n",
    "    \n",
    "    instance_list = []\n",
    "    for key in data_dict.keys():\n",
    "        instance = convert_to_timeseries(data_dict[key])\n",
    "        reshaped_instance = np.expand_dims(instance, axis=0)\n",
    "        instance_list.append(reshaped_instance)\n",
    "\n",
    "    data = np.concatenate(instance_list, axis=0)\n",
    "    return data"
   ]
  },
  {
   "cell_type": "code",
   "execution_count": 60,
   "id": "22ed4aa3-66fa-4f27-b474-c06c938cb673",
   "metadata": {},
   "outputs": [
    {
     "data": {
      "text/plain": [
       "(314, 129, 4)"
      ]
     },
     "execution_count": 60,
     "metadata": {},
     "output_type": "execute_result"
    }
   ],
   "source": [
    "create_timeseries_data(rss_data_padded).shape"
   ]
  }
 ],
 "metadata": {
  "kernelspec": {
   "display_name": "Python 3 (ipykernel)",
   "language": "python",
   "name": "python3"
  },
  "language_info": {
   "codemirror_mode": {
    "name": "ipython",
    "version": 3
   },
   "file_extension": ".py",
   "mimetype": "text/x-python",
   "name": "python",
   "nbconvert_exporter": "python",
   "pygments_lexer": "ipython3",
   "version": "3.8.10"
  }
 },
 "nbformat": 4,
 "nbformat_minor": 5
}
